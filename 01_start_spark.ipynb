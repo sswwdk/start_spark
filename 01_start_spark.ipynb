{
 "cells": [
  {
   "cell_type": "code",
   "execution_count": 1,
   "id": "b589769a-8e05-4e11-b5b3-8350dd107db3",
   "metadata": {},
   "outputs": [
    {
     "name": "stdout",
     "output_type": "stream",
     "text": [
      "hello\n"
     ]
    }
   ],
   "source": [
    "print('hello')"
   ]
  },
  {
   "cell_type": "code",
   "execution_count": 2,
   "id": "d296b09d-2c04-4ff9-87c0-512ca92fb078",
   "metadata": {},
   "outputs": [
    {
     "name": "stdout",
     "output_type": "stream",
     "text": [
      "/opt/conda/bin/python\n"
     ]
    }
   ],
   "source": [
    "!which python"
   ]
  },
  {
   "cell_type": "code",
   "execution_count": 3,
   "id": "84fd790a-cfe0-4a91-a6f6-5f0e41418bca",
   "metadata": {},
   "outputs": [
    {
     "name": "stdout",
     "output_type": "stream",
     "text": [
      "Python 3.11.6\n"
     ]
    }
   ],
   "source": [
    "!python --version"
   ]
  },
  {
   "cell_type": "code",
   "execution_count": 4,
   "id": "3b32040f-c868-4fd2-a880-0d0a0e06b4c1",
   "metadata": {},
   "outputs": [
    {
     "name": "stdout",
     "output_type": "stream",
     "text": [
      "openjdk version \"17.0.8.1\" 2023-08-24\n",
      "OpenJDK Runtime Environment (build 17.0.8.1+1-Ubuntu-0ubuntu122.04)\n",
      "OpenJDK 64-Bit Server VM (build 17.0.8.1+1-Ubuntu-0ubuntu122.04, mixed mode, sharing)\n"
     ]
    }
   ],
   "source": [
    "!java -version"
   ]
  },
  {
   "cell_type": "code",
   "execution_count": 5,
   "id": "72f18ae5-3723-4d77-85c6-2bb91a95b100",
   "metadata": {},
   "outputs": [
    {
     "name": "stdout",
     "output_type": "stream",
     "text": [
      "/usr/bin/java\n"
     ]
    }
   ],
   "source": [
    "!which java"
   ]
  },
  {
   "cell_type": "code",
   "execution_count": 8,
   "id": "79b0f666-f4a2-4196-a33d-a7f78da6e47b",
   "metadata": {},
   "outputs": [
    {
     "name": "stdout",
     "output_type": "stream",
     "text": [
      "Name: pyspark\n",
      "Version: 3.5.0\n",
      "Summary: Apache Spark Python API\n",
      "Home-page: https://github.com/apache/spark/tree/master/python\n",
      "Author: Spark Developers\n",
      "Author-email: dev@spark.apache.org\n",
      "License: http://www.apache.org/licenses/LICENSE-2.0\n",
      "Location: /usr/local/spark/python\n",
      "Requires: py4j\n",
      "Required-by: \n",
      "Note: you may need to restart the kernel to use updated packages.\n"
     ]
    }
   ],
   "source": [
    "pip show pyspark"
   ]
  },
  {
   "cell_type": "code",
   "execution_count": null,
   "id": "08ec2cf5-74f5-4009-8725-31d9b02b02f9",
   "metadata": {},
   "outputs": [],
   "source": [
    "print(\"hello\")"
   ]
  },
  {
   "cell_type": "code",
   "execution_count": 9,
   "id": "c338dbfe-b71b-4e88-99b5-76fd49ef48cf",
   "metadata": {},
   "outputs": [
    {
     "data": {
      "text/plain": [
       "'/usr/local/spark'"
      ]
     },
     "execution_count": 9,
     "metadata": {},
     "output_type": "execute_result"
    }
   ],
   "source": [
    "# SPARK_HOME\n",
    "import os\n",
    "os.environ.get('SPARK_HOME')"
   ]
  },
  {
   "cell_type": "code",
   "execution_count": 10,
   "id": "c66c1f13-2c44-4c75-9ee5-1cbd9088cc01",
   "metadata": {},
   "outputs": [],
   "source": [
    "# JAVA_HOME\n",
    "os.environ.get('JAVA_HOME')"
   ]
  },
  {
   "cell_type": "code",
   "execution_count": 11,
   "id": "480bba3f-19a8-4d9f-858c-9aab64491d76",
   "metadata": {},
   "outputs": [
    {
     "data": {
      "text/plain": [
       "'/usr/local/spark/python/lib/py4j-0.10.9.7-src.zip:/usr/local/spark/python:'"
      ]
     },
     "execution_count": 11,
     "metadata": {},
     "output_type": "execute_result"
    }
   ],
   "source": [
    "# PYTHONPATH\n",
    "os.environ.get('PYTHONPATH')"
   ]
  },
  {
   "cell_type": "code",
   "execution_count": null,
   "id": "6de57440-196d-4b8c-8985-9c032d674ecf",
   "metadata": {},
   "outputs": [],
   "source": []
  },
  {
   "cell_type": "code",
   "execution_count": 2,
   "id": "11dd18d3-9122-414b-8157-b025ff425626",
   "metadata": {},
   "outputs": [],
   "source": [
    "import pyspark"
   ]
  },
  {
   "cell_type": "code",
   "execution_count": 3,
   "id": "944eebd6-6a59-4c8e-8f9a-85aac28df2a8",
   "metadata": {},
   "outputs": [],
   "source": [
    "from pyspark.sql import SparkSession\n",
    "\n",
    "# 프로젝트 이름\n",
    "spark = SparkSession.builder.appName('pyspark example1').getOrCreate() # chaining\n",
    "#SparkContext.SparkSession"
   ]
  },
  {
   "cell_type": "code",
   "execution_count": 4,
   "id": "0f66d44b-3066-4c7e-9048-eb5fc9af1c7d",
   "metadata": {},
   "outputs": [
    {
     "data": {
      "text/html": [
       "\n",
       "            <div>\n",
       "                <p><b>SparkSession - in-memory</b></p>\n",
       "                \n",
       "        <div>\n",
       "            <p><b>SparkContext</b></p>\n",
       "\n",
       "            <p><a href=\"http://65897b4b5d1d:4040\">Spark UI</a></p>\n",
       "\n",
       "            <dl>\n",
       "              <dt>Version</dt>\n",
       "                <dd><code>v3.5.0</code></dd>\n",
       "              <dt>Master</dt>\n",
       "                <dd><code>local[*]</code></dd>\n",
       "              <dt>AppName</dt>\n",
       "                <dd><code>pyspark example1</code></dd>\n",
       "            </dl>\n",
       "        </div>\n",
       "        \n",
       "            </div>\n",
       "        "
      ],
      "text/plain": [
       "<pyspark.sql.session.SparkSession at 0x7f8b35a4cfd0>"
      ]
     },
     "execution_count": 4,
     "metadata": {},
     "output_type": "execute_result"
    }
   ],
   "source": [
    "spark # Spark UI 누르면 4041포트로 연결된게 보임"
   ]
  },
  {
   "cell_type": "code",
   "execution_count": 7,
   "id": "11cfe4e2-e1e6-4e9f-9d5b-14e1391d7325",
   "metadata": {},
   "outputs": [],
   "source": [
    "spark.stop() # 4041 포트 (4040포트로 연결해둔 것이 있어서)"
   ]
  },
  {
   "cell_type": "code",
   "execution_count": null,
   "id": "1f98843d-463f-4f63-abb4-ef2e6e4b1f3a",
   "metadata": {},
   "outputs": [],
   "source": []
  },
  {
   "cell_type": "code",
   "execution_count": 8,
   "id": "9014da01-c102-4ed4-a113-81806e564adb",
   "metadata": {},
   "outputs": [],
   "source": [
    "from pyspark.sql import SparkSession\n",
    "\n",
    "# 프로젝트 이름\n",
    "spark = SparkSession.builder.appName('pyspark example1').getOrCreate() # chaining\n",
    "#SparkContext.SparkSession"
   ]
  },
  {
   "cell_type": "code",
   "execution_count": 9,
   "id": "0f36efa4-e497-4997-802f-6bb31d6b4fc2",
   "metadata": {},
   "outputs": [
    {
     "data": {
      "text/html": [
       "\n",
       "            <div>\n",
       "                <p><b>SparkSession - in-memory</b></p>\n",
       "                \n",
       "        <div>\n",
       "            <p><b>SparkContext</b></p>\n",
       "\n",
       "            <p><a href=\"http://65897b4b5d1d:4040\">Spark UI</a></p>\n",
       "\n",
       "            <dl>\n",
       "              <dt>Version</dt>\n",
       "                <dd><code>v3.5.0</code></dd>\n",
       "              <dt>Master</dt>\n",
       "                <dd><code>local[*]</code></dd>\n",
       "              <dt>AppName</dt>\n",
       "                <dd><code>pyspark example1</code></dd>\n",
       "            </dl>\n",
       "        </div>\n",
       "        \n",
       "            </div>\n",
       "        "
      ],
      "text/plain": [
       "<pyspark.sql.session.SparkSession at 0x7f8b359e45d0>"
      ]
     },
     "execution_count": 9,
     "metadata": {},
     "output_type": "execute_result"
    }
   ],
   "source": [
    "spark"
   ]
  },
  {
   "cell_type": "code",
   "execution_count": 10,
   "id": "168c7865-ab52-40c0-bc10-0fef862699f8",
   "metadata": {},
   "outputs": [
    {
     "data": {
      "text/plain": [
       "[('Alice', 1), ('Bob', 2), ('Charlie', 3)]"
      ]
     },
     "execution_count": 10,
     "metadata": {},
     "output_type": "execute_result"
    }
   ],
   "source": [
    "data = [('Alice',1), ('Bob', 2), ('Charlie',3)]\n",
    "data"
   ]
  },
  {
   "cell_type": "code",
   "execution_count": 11,
   "id": "d58a8a11-1fee-47d0-9482-501ada686600",
   "metadata": {},
   "outputs": [
    {
     "data": {
      "text/plain": [
       "list"
      ]
     },
     "execution_count": 11,
     "metadata": {},
     "output_type": "execute_result"
    }
   ],
   "source": [
    "type(data)"
   ]
  },
  {
   "cell_type": "code",
   "execution_count": 12,
   "id": "9be54d4c-1761-475f-97dc-f8ecd54d752b",
   "metadata": {},
   "outputs": [],
   "source": [
    "# spark에 있는 DataFrame 객체\n",
    "# DataFrame 객체(분산객체)를 생성 <> 판다스의 데이터프레임이 아니다.\n",
    "data1 = spark.createDataFrame(data, ['Name','Value'])"
   ]
  },
  {
   "cell_type": "code",
   "execution_count": 13,
   "id": "f85962cd-8dce-4857-8588-c6e0ec3cc300",
   "metadata": {},
   "outputs": [
    {
     "data": {
      "text/plain": [
       "DataFrame[Name: string, Value: bigint]"
      ]
     },
     "execution_count": 13,
     "metadata": {},
     "output_type": "execute_result"
    }
   ],
   "source": [
    "data1"
   ]
  },
  {
   "cell_type": "code",
   "execution_count": 14,
   "id": "a191ec4d-efc9-4973-9005-3bf4017597ee",
   "metadata": {},
   "outputs": [
    {
     "data": {
      "text/plain": [
       "Column<'Value[1]'>"
      ]
     },
     "execution_count": 14,
     "metadata": {},
     "output_type": "execute_result"
    }
   ],
   "source": [
    "# executor가 가지고 있어서 못봄\n",
    "data1[1][1]"
   ]
  },
  {
   "cell_type": "code",
   "execution_count": 15,
   "id": "7d033eea-d8c0-4b45-915f-822dcc4ca7cc",
   "metadata": {},
   "outputs": [
    {
     "name": "stdout",
     "output_type": "stream",
     "text": [
      "+-------+-----+\n",
      "|   Name|Value|\n",
      "+-------+-----+\n",
      "|  Alice|    1|\n",
      "|    Bob|    2|\n",
      "|Charlie|    3|\n",
      "+-------+-----+\n",
      "\n"
     ]
    }
   ],
   "source": [
    "data1.show()"
   ]
  },
  {
   "cell_type": "code",
   "execution_count": 16,
   "id": "ab0e2592-063a-42a3-96f7-3c7ddeec5364",
   "metadata": {},
   "outputs": [
    {
     "name": "stdout",
     "output_type": "stream",
     "text": [
      "+----+-----+\n",
      "|Name|Value|\n",
      "+----+-----+\n",
      "| Bob|    2|\n",
      "+----+-----+\n",
      "\n"
     ]
    }
   ],
   "source": [
    "data1.filter(data1.Name == 'Bob').show()"
   ]
  },
  {
   "cell_type": "code",
   "execution_count": 19,
   "id": "4abf0c0e-42e2-49fc-b90f-d15e1f709d14",
   "metadata": {},
   "outputs": [
    {
     "data": {
      "text/plain": [
       "DataFrame[Name: string, Value: bigint]"
      ]
     },
     "execution_count": 19,
     "metadata": {},
     "output_type": "execute_result"
    }
   ],
   "source": [
    "data1.filter(data1.Value > 2)"
   ]
  },
  {
   "cell_type": "code",
   "execution_count": 17,
   "id": "3df61eae-233c-4369-adfa-f81de4e884cf",
   "metadata": {},
   "outputs": [
    {
     "name": "stdout",
     "output_type": "stream",
     "text": [
      "+----+-----+\n",
      "|Name|Value|\n",
      "+----+-----+\n",
      "| Bob|    2|\n",
      "+----+-----+\n",
      "\n"
     ]
    }
   ],
   "source": [
    "data1.filter(data1.Name == 'Bob').show()"
   ]
  },
  {
   "cell_type": "code",
   "execution_count": 18,
   "id": "ce2ffa2b-589d-4ed3-a8aa-ab0f7eec5134",
   "metadata": {},
   "outputs": [
    {
     "name": "stdout",
     "output_type": "stream",
     "text": [
      "+-------+-----+\n",
      "|   Name|Value|\n",
      "+-------+-----+\n",
      "|Charlie|    3|\n",
      "+-------+-----+\n",
      "\n"
     ]
    }
   ],
   "source": [
    "data1.filter(data1.Value > 2).show()"
   ]
  },
  {
   "cell_type": "code",
   "execution_count": 27,
   "id": "b95f05cb-b3a6-49a9-b721-a29ca94c2fad",
   "metadata": {},
   "outputs": [],
   "source": [
    "data1.createOrReplaceTempView('people')"
   ]
  },
  {
   "cell_type": "code",
   "execution_count": 28,
   "id": "ee53a82a-e8ab-4cd4-bdfa-8a4f7c8dcba7",
   "metadata": {},
   "outputs": [
    {
     "data": {
      "text/plain": [
       "DataFrame[Name: string, Value: bigint]"
      ]
     },
     "execution_count": 28,
     "metadata": {},
     "output_type": "execute_result"
    }
   ],
   "source": [
    "spark.sql('select * from people')"
   ]
  },
  {
   "cell_type": "code",
   "execution_count": 29,
   "id": "fef03661-f2c7-4eea-8b9b-02784950d628",
   "metadata": {},
   "outputs": [
    {
     "name": "stdout",
     "output_type": "stream",
     "text": [
      "+-------+-----+\n",
      "|   Name|Value|\n",
      "+-------+-----+\n",
      "|  Alice|    1|\n",
      "|    Bob|    2|\n",
      "|Charlie|    3|\n",
      "+-------+-----+\n",
      "\n"
     ]
    }
   ],
   "source": [
    "spark.sql('select * from people').show()"
   ]
  },
  {
   "cell_type": "code",
   "execution_count": 36,
   "id": "1d7d3da3-e355-440b-8673-781783db1675",
   "metadata": {},
   "outputs": [
    {
     "name": "stdout",
     "output_type": "stream",
     "text": [
      "+----+-----+\n",
      "|Name|Value|\n",
      "+----+-----+\n",
      "| Bob|    2|\n",
      "+----+-----+\n",
      "\n"
     ]
    }
   ],
   "source": [
    "spark.sql(\"select * from people where Name = 'Bob'\").show() # bob은 안되고 Bob만 되네, 대소문자 구분 잘해야겠다리"
   ]
  },
  {
   "cell_type": "code",
   "execution_count": 33,
   "id": "092de69b-be65-4c8b-8e9d-ab2b97e1b557",
   "metadata": {},
   "outputs": [
    {
     "name": "stdout",
     "output_type": "stream",
     "text": [
      "+-------+-----+\n",
      "|   Name|Value|\n",
      "+-------+-----+\n",
      "|Charlie|    3|\n",
      "+-------+-----+\n",
      "\n"
     ]
    }
   ],
   "source": [
    "spark.sql('select * from people where Value > 2').show()"
   ]
  },
  {
   "cell_type": "markdown",
   "id": "a5233396-c35a-41ad-826f-e4ac50ceaf0a",
   "metadata": {},
   "source": [
    "# RDD 객체 생성"
   ]
  },
  {
   "cell_type": "code",
   "execution_count": 20,
   "id": "169aea2c-ba68-42e3-9e39-2d0e15a240df",
   "metadata": {},
   "outputs": [],
   "source": [
    "spark = SparkSession.builder.appName('pyspark example1').getOrCreate()"
   ]
  },
  {
   "cell_type": "code",
   "execution_count": 21,
   "id": "9761096c-0da8-465b-ba29-9ee1df387766",
   "metadata": {},
   "outputs": [
    {
     "data": {
      "text/plain": [
       "ParallelCollectionRDD[13] at readRDDFromFile at PythonRDD.scala:289"
      ]
     },
     "execution_count": 21,
     "metadata": {},
     "output_type": "execute_result"
    }
   ],
   "source": [
    "# RDD 생성\n",
    "rdd = spark.sparkContext.parallelize([1,2,3,4,5])\n",
    "rdd"
   ]
  },
  {
   "cell_type": "code",
   "execution_count": 22,
   "id": "2d123cf6-e6d1-4e0e-86bf-873e1ab2f444",
   "metadata": {},
   "outputs": [
    {
     "data": {
      "text/plain": [
       "DataFrame[Name: string, Value: bigint]"
      ]
     },
     "execution_count": 22,
     "metadata": {},
     "output_type": "execute_result"
    }
   ],
   "source": [
    "data1"
   ]
  },
  {
   "cell_type": "code",
   "execution_count": 23,
   "id": "39def44c-27b1-4704-b798-3b718b30ab56",
   "metadata": {},
   "outputs": [
    {
     "data": {
      "text/plain": [
       "[1, 2, 3, 4, 5]"
      ]
     },
     "execution_count": 23,
     "metadata": {},
     "output_type": "execute_result"
    }
   ],
   "source": [
    "# rdd 객체를 출력하는 함수 (N개를 무조건 지정해줘야 된다)\n",
    "rdd.take(5)"
   ]
  },
  {
   "cell_type": "code",
   "execution_count": 24,
   "id": "9fe433ff-1570-4d5e-bc69-6d71efa40262",
   "metadata": {},
   "outputs": [
    {
     "data": {
      "text/plain": [
       "PythonRDD[16] at RDD at PythonRDD.scala:53"
      ]
     },
     "execution_count": 24,
     "metadata": {},
     "output_type": "execute_result"
    }
   ],
   "source": [
    "# map 연산 : rdd 값으로 연산\n",
    "squared_rdd = rdd.map(lambda x : x*x)\n",
    "squared_rdd"
   ]
  },
  {
   "cell_type": "code",
   "execution_count": 25,
   "id": "badcca41-ce09-400f-b200-03d9ef3a0b6c",
   "metadata": {},
   "outputs": [
    {
     "data": {
      "text/plain": [
       "[1, 4, 9]"
      ]
     },
     "execution_count": 25,
     "metadata": {},
     "output_type": "execute_result"
    }
   ],
   "source": [
    "squared_rdd.take(3)"
   ]
  },
  {
   "cell_type": "code",
   "execution_count": 26,
   "id": "9c795314-7076-4a27-8326-57033510cf1d",
   "metadata": {},
   "outputs": [
    {
     "data": {
      "text/plain": [
       "[1, 4, 9, 16, 25]"
      ]
     },
     "execution_count": 26,
     "metadata": {},
     "output_type": "execute_result"
    }
   ],
   "source": [
    "squared_rdd.collect()"
   ]
  },
  {
   "cell_type": "code",
   "execution_count": null,
   "id": "b734ef34-d35a-4859-b30b-e8ec2bef857a",
   "metadata": {},
   "outputs": [],
   "source": []
  },
  {
   "cell_type": "markdown",
   "id": "239b1239-0c91-43e1-bfad-6f27aa67c4d2",
   "metadata": {},
   "source": [
    "# MLlib"
   ]
  },
  {
   "cell_type": "code",
   "execution_count": 41,
   "id": "c7d94560-c64b-4a21-adba-52439f7d3c3c",
   "metadata": {},
   "outputs": [],
   "source": [
    "from pyspark.ml.regression import LinearRegression # sklearn이 아닌 pyspark.ml 안에 있는걸 가지고 오네."
   ]
  },
  {
   "cell_type": "code",
   "execution_count": 40,
   "id": "2d88a2a4-7fcb-43fc-9837-8ae6e36a677e",
   "metadata": {},
   "outputs": [],
   "source": [
    "import numpy as np # 피처랑 , 넣으려고."
   ]
  },
  {
   "cell_type": "code",
   "execution_count": 39,
   "id": "3a1849ea-89fe-44e1-bb7a-dbbb85697137",
   "metadata": {},
   "outputs": [],
   "source": [
    "from pyspark.ml.feature import VectorAssembler"
   ]
  },
  {
   "cell_type": "code",
   "execution_count": 42,
   "id": "932e9660-7d1d-40d0-867e-5dab16f6e30f",
   "metadata": {},
   "outputs": [
    {
     "data": {
      "text/plain": [
       "[('Alice', 25), ('Bob', 30), ('Charlie', 33)]"
      ]
     },
     "execution_count": 42,
     "metadata": {},
     "output_type": "execute_result"
    }
   ],
   "source": [
    "data_age = [('Alice',25), ('Bob', 30), ('Charlie',33)]\n",
    "data_age"
   ]
  },
  {
   "cell_type": "code",
   "execution_count": 43,
   "id": "ce953bfe-7d24-4792-8bee-3082073ea27b",
   "metadata": {},
   "outputs": [],
   "source": [
    "# spark에 있는 DataFrame 객체\n",
    "# DataFrame 객체(분산객체)를 생성 <> 판다스의 데이터프레임이 아니다.\n",
    "data2 = spark.createDataFrame(data_age, ['Name','Age'])"
   ]
  },
  {
   "cell_type": "code",
   "execution_count": 45,
   "id": "bab568b6-d25b-4842-a273-24a90854f56c",
   "metadata": {},
   "outputs": [
    {
     "data": {
      "text/plain": [
       "DataFrame[Name: string, Age: bigint, features: vector]"
      ]
     },
     "execution_count": 45,
     "metadata": {},
     "output_type": "execute_result"
    }
   ],
   "source": [
    "assembler = VectorAssembler(inputCols=['Age'], outputCol='features')\n",
    "vector_df = assembler.transform(data2)\n",
    "vector_df"
   ]
  },
  {
   "cell_type": "code",
   "execution_count": 50,
   "id": "152eb948-85fc-4e37-ad2f-373d06b24577",
   "metadata": {},
   "outputs": [],
   "source": [
    "lr = LinearRegression(featuresCol='features', labelCol='Age')\n",
    "model=lr.fit(vector_df)"
   ]
  },
  {
   "cell_type": "code",
   "execution_count": 51,
   "id": "bc3b45e6-cd72-4e95-9d38-3f0ffcfec3ee",
   "metadata": {},
   "outputs": [
    {
     "data": {
      "text/plain": [
       "DataFrame[Name: string, Age: bigint, features: vector, prediction: double]"
      ]
     },
     "execution_count": 51,
     "metadata": {},
     "output_type": "execute_result"
    }
   ],
   "source": [
    "pred = model.transform(vector_df)\n",
    "pred"
   ]
  },
  {
   "cell_type": "code",
   "execution_count": 52,
   "id": "59e2eba5-cce1-4e99-9419-917387336b43",
   "metadata": {
    "scrolled": true
   },
   "outputs": [
    {
     "name": "stdout",
     "output_type": "stream",
     "text": [
      "+-------+---+--------+-----------------+\n",
      "|   Name|Age|features|       prediction|\n",
      "+-------+---+--------+-----------------+\n",
      "|  Alice| 25|  [25.0]|24.99999999999993|\n",
      "|    Bob| 30|  [30.0]|30.00000000000001|\n",
      "|Charlie| 33|  [33.0]|33.00000000000006|\n",
      "+-------+---+--------+-----------------+\n",
      "\n"
     ]
    }
   ],
   "source": [
    "pred.show()"
   ]
  },
  {
   "cell_type": "code",
   "execution_count": 56,
   "id": "7a6eae63-ba9d-486b-8a2f-d352befaa7ce",
   "metadata": {},
   "outputs": [],
   "source": [
    "spark.stop()"
   ]
  },
  {
   "cell_type": "markdown",
   "id": "72e7c7fa-2865-409f-80f4-090fb564084e",
   "metadata": {},
   "source": [
    "# Streaming"
   ]
  },
  {
   "cell_type": "code",
   "execution_count": 103,
   "id": "a023983f-49ef-45fc-8ae3-e442653b65df",
   "metadata": {},
   "outputs": [],
   "source": [
    "from pyspark.sql.functions import explode, split"
   ]
  },
  {
   "cell_type": "code",
   "execution_count": 70,
   "id": "7146d288-1e51-4745-911c-14bff72c7532",
   "metadata": {},
   "outputs": [],
   "source": [
    "spark = SparkSession.builder.appName('pyspark example1').getOrCreate()"
   ]
  },
  {
   "cell_type": "code",
   "execution_count": 60,
   "id": "d100f2ec-208f-4f0c-b41a-dea464f60f9d",
   "metadata": {},
   "outputs": [],
   "source": [
    "lines = spark.readStream.format('socket').option('host','localhost').option('port',9999).load() # STREAMING DATA LOAD"
   ]
  },
  {
   "cell_type": "markdown",
   "id": "68a72416-75ee-4e60-a9cc-dccdcd2163b6",
   "metadata": {},
   "source": [
    "aaaa bbbn cccc hello"
   ]
  },
  {
   "cell_type": "code",
   "execution_count": null,
   "id": "b5b1b1eb-73e7-43b5-9a1f-c53c800efe93",
   "metadata": {},
   "outputs": [],
   "source": [
    "words = lines.select(explode(split(lines.value, '')).alias('word'))"
   ]
  },
  {
   "cell_type": "code",
   "execution_count": 66,
   "id": "4730161c-614e-48f2-8a7a-26a944f30e4e",
   "metadata": {},
   "outputs": [],
   "source": [
    "spark.stop()"
   ]
  },
  {
   "cell_type": "code",
   "execution_count": null,
   "id": "1520c92e-84e4-4208-b789-4de56d3b1982",
   "metadata": {},
   "outputs": [],
   "source": []
  },
  {
   "cell_type": "markdown",
   "id": "8fb5ed88-f906-4759-b7d7-98a18abde29e",
   "metadata": {},
   "source": [
    "# RDD에서 다룰 수 있는 데이터 타입   \n",
    "1. 비정형 데이터 - ...json, txt, str\n",
    "2. 정형 데이터 - 리스트, cvs, table"
   ]
  },
  {
   "cell_type": "code",
   "execution_count": 71,
   "id": "3d5a829e-1d42-4f86-a482-176730b97198",
   "metadata": {},
   "outputs": [
    {
     "data": {
      "text/plain": [
       "learning_spark_data/log.txt MapPartitionsRDD[1] at textFile at NativeMethodAccessorImpl.java:0"
      ]
     },
     "execution_count": 71,
     "metadata": {},
     "output_type": "execute_result"
    }
   ],
   "source": [
    "# RDD [str]\n",
    "rdd1 = spark.sparkContext.textFile('learning_spark_data/log.txt')\n",
    "rdd1"
   ]
  },
  {
   "cell_type": "code",
   "execution_count": 72,
   "id": "f13f7797-120d-4dac-bd1d-25cb836393a6",
   "metadata": {},
   "outputs": [
    {
     "data": {
      "text/plain": [
       "['2025-07-31 10:00:01 INFO User=kim ACTION=LOGIN RESULT=SUCCESS',\n",
       " '2025-07-31 10:05:43 WARN User=lee ACTION=DOWNLOAD RESULT=FAIL',\n",
       " '2025-07-31 10:08:22 INFO User=park ACTION=UPLOAD RESULT=SUCCESS']"
      ]
     },
     "execution_count": 72,
     "metadata": {},
     "output_type": "execute_result"
    }
   ],
   "source": [
    "rdd1.take(3)"
   ]
  },
  {
   "cell_type": "code",
   "execution_count": null,
   "id": "65e2bc44-9929-4c95-af84-ab7bef97a12a",
   "metadata": {},
   "outputs": [],
   "source": [
    "#RDD[dict] - data.json"
   ]
  },
  {
   "cell_type": "code",
   "execution_count": 79,
   "id": "6aec1ffe-ac04-4361-bfd5-b7152cf5781f",
   "metadata": {},
   "outputs": [
    {
     "data": {
      "text/plain": [
       "PythonRDD[13] at RDD at PythonRDD.scala:53"
      ]
     },
     "execution_count": 79,
     "metadata": {},
     "output_type": "execute_result"
    }
   ],
   "source": [
    "import json\n",
    "rdd2 = spark.sparkContext.textFile('learning_spark_data/data.json').map(json.loads)\n",
    "rdd2"
   ]
  },
  {
   "cell_type": "code",
   "execution_count": 80,
   "id": "8fb30743-4993-49b4-988e-8e5d24ee46c9",
   "metadata": {},
   "outputs": [
    {
     "data": {
      "text/plain": [
       "[{'user': 'kim',\n",
       "  'action': 'login',\n",
       "  'result': 'success',\n",
       "  'time': '2025-07-31 10:00:01'},\n",
       " {'user': 'lee',\n",
       "  'action': 'download',\n",
       "  'result': 'fail',\n",
       "  'time': '2025-07-31 10:05:43'},\n",
       " {'user': 'park',\n",
       "  'action': 'upload',\n",
       "  'result': 'success',\n",
       "  'time': '2025-07-31 10:08:22'}]"
      ]
     },
     "execution_count": 80,
     "metadata": {},
     "output_type": "execute_result"
    }
   ],
   "source": [
    "rdd2.take(3)"
   ]
  },
  {
   "cell_type": "code",
   "execution_count": 97,
   "id": "2a7abb63-1c01-4333-ba10-82678a02745b",
   "metadata": {},
   "outputs": [],
   "source": [
    "spark.stop()"
   ]
  },
  {
   "cell_type": "markdown",
   "id": "23aeaa13-8068-4a8a-991b-528eb6153d23",
   "metadata": {},
   "source": [
    "# RDD의 데이터 읽기 패턴   \n",
    "1. RDD 생성 - type 지정하지 않는다.\n",
    "2. 형식 변환 - map() 함수로 변환\n",
    "3. 데이터 출력 - take(n) "
   ]
  },
  {
   "cell_type": "code",
   "execution_count": null,
   "id": "6de19358-10b5-4060-816d-f446cf5a74ff",
   "metadata": {},
   "outputs": [],
   "source": []
  },
  {
   "cell_type": "markdown",
   "id": "1072ef20-141b-403f-90d3-69374f381e2f",
   "metadata": {},
   "source": [
    "# SparkContext 객체\n",
    "\n",
    "1. SparkSession.getOrCreate() -> 세선객체로부터 사전에 설정된 변수에 맞춰 컨텍스트 생성\n",
    "2. SparkConf + SparkContext ->  저수준 연산에 적합한 방식"
   ]
  },
  {
   "cell_type": "code",
   "execution_count": 6,
   "id": "b2fe9f9d-b06a-4d4d-abca-264d0e4a4b65",
   "metadata": {},
   "outputs": [
    {
     "data": {
      "text/plain": [
       "<pyspark.conf.SparkConf at 0x7fadfd3b5110>"
      ]
     },
     "execution_count": 6,
     "metadata": {},
     "output_type": "execute_result"
    }
   ],
   "source": [
    "from pyspark import SparkConf, SparkContext\n",
    "conf = SparkConf().setMaster('local').setAppName('country-student-counts2')\n",
    "conf"
   ]
  },
  {
   "cell_type": "code",
   "execution_count": 3,
   "id": "d4e36520-73f4-4db4-9e20-ab5953e00d1c",
   "metadata": {},
   "outputs": [],
   "source": [
    "spark = SparkContext(conf=conf).getOrCreate()"
   ]
  },
  {
   "cell_type": "code",
   "execution_count": 111,
   "id": "81bf9097-1995-424d-8828-1a2a8d8fbaf2",
   "metadata": {},
   "outputs": [],
   "source": [
    "from pyspark.sql import SparkSession"
   ]
  },
  {
   "cell_type": "code",
   "execution_count": 4,
   "id": "fce7eb37-1b4e-4882-a704-af99ac4b72b1",
   "metadata": {},
   "outputs": [
    {
     "data": {
      "text/plain": [
       "[('spark.master', 'local'),\n",
       " ('spark.app.startTime', '1754027323649'),\n",
       " ('spark.driver.port', '34749'),\n",
       " ('spark.executor.id', 'driver'),\n",
       " ('spark.driver.extraJavaOptions',\n",
       "  '-Djava.net.preferIPv6Addresses=false -XX:+IgnoreUnrecognizedVMOptions --add-opens=java.base/java.lang=ALL-UNNAMED --add-opens=java.base/java.lang.invoke=ALL-UNNAMED --add-opens=java.base/java.lang.reflect=ALL-UNNAMED --add-opens=java.base/java.io=ALL-UNNAMED --add-opens=java.base/java.net=ALL-UNNAMED --add-opens=java.base/java.nio=ALL-UNNAMED --add-opens=java.base/java.util=ALL-UNNAMED --add-opens=java.base/java.util.concurrent=ALL-UNNAMED --add-opens=java.base/java.util.concurrent.atomic=ALL-UNNAMED --add-opens=java.base/sun.nio.ch=ALL-UNNAMED --add-opens=java.base/sun.nio.cs=ALL-UNNAMED --add-opens=java.base/sun.security.action=ALL-UNNAMED --add-opens=java.base/sun.util.calendar=ALL-UNNAMED --add-opens=java.security.jgss/sun.security.krb5=ALL-UNNAMED -Djdk.reflect.useDirectMethodHandle=false'),\n",
       " ('spark.app.name', 'country-student-counts2'),\n",
       " ('spark.driver.host', '65897b4b5d1d'),\n",
       " ('spark.rdd.compress', 'True'),\n",
       " ('spark.serializer.objectStreamReset', '100'),\n",
       " ('spark.submit.pyFiles', ''),\n",
       " ('spark.submit.deployMode', 'client'),\n",
       " ('spark.app.id', 'local-1754027324221'),\n",
       " ('spark.app.submitTime', '1754027323571'),\n",
       " ('spark.ui.showConsoleProgress', 'true'),\n",
       " ('spark.executor.extraJavaOptions',\n",
       "  '-Djava.net.preferIPv6Addresses=false -XX:+IgnoreUnrecognizedVMOptions --add-opens=java.base/java.lang=ALL-UNNAMED --add-opens=java.base/java.lang.invoke=ALL-UNNAMED --add-opens=java.base/java.lang.reflect=ALL-UNNAMED --add-opens=java.base/java.io=ALL-UNNAMED --add-opens=java.base/java.net=ALL-UNNAMED --add-opens=java.base/java.nio=ALL-UNNAMED --add-opens=java.base/java.util=ALL-UNNAMED --add-opens=java.base/java.util.concurrent=ALL-UNNAMED --add-opens=java.base/java.util.concurrent.atomic=ALL-UNNAMED --add-opens=java.base/sun.nio.ch=ALL-UNNAMED --add-opens=java.base/sun.nio.cs=ALL-UNNAMED --add-opens=java.base/sun.security.action=ALL-UNNAMED --add-opens=java.base/sun.util.calendar=ALL-UNNAMED --add-opens=java.security.jgss/sun.security.krb5=ALL-UNNAMED -Djdk.reflect.useDirectMethodHandle=false')]"
      ]
     },
     "execution_count": 4,
     "metadata": {},
     "output_type": "execute_result"
    }
   ],
   "source": [
    "spark.getConf().getAll()"
   ]
  },
  {
   "cell_type": "code",
   "execution_count": 5,
   "id": "e1020e80-6841-482f-9fa8-d7ee96fcbbda",
   "metadata": {},
   "outputs": [],
   "source": [
    "spark.stop()"
   ]
  },
  {
   "cell_type": "code",
   "execution_count": null,
   "id": "96f24d55-cb0e-4c25-91b2-06df4d81da79",
   "metadata": {},
   "outputs": [],
   "source": []
  },
  {
   "cell_type": "code",
   "execution_count": 1,
   "id": "eb40c36d-ac95-481e-9b53-269cffcbc767",
   "metadata": {},
   "outputs": [
    {
     "data": {
      "text/plain": [
       "'/home/jovyan/work'"
      ]
     },
     "execution_count": 1,
     "metadata": {},
     "output_type": "execute_result"
    }
   ],
   "source": [
    "import os\n",
    "os.getcwd()"
   ]
  },
  {
   "cell_type": "code",
   "execution_count": 2,
   "id": "35606806-7bcd-4561-879b-341e73673a97",
   "metadata": {},
   "outputs": [
    {
     "data": {
      "text/plain": [
       "'/home/jovyan/work/learning_spark_data'"
      ]
     },
     "execution_count": 2,
     "metadata": {},
     "output_type": "execute_result"
    }
   ],
   "source": [
    "dir = os.path.join(os.getcwd(), 'learning_spark_data')\n",
    "dir"
   ]
  },
  {
   "cell_type": "code",
   "execution_count": 3,
   "id": "d0e55d58-5bad-4a1b-b09a-1f16de042a0d",
   "metadata": {},
   "outputs": [
    {
     "data": {
      "text/plain": [
       "'/home/jovyan/work/learning_spark_data/xAPI-Edu-Data.csv'"
      ]
     },
     "execution_count": 3,
     "metadata": {},
     "output_type": "execute_result"
    }
   ],
   "source": [
    "filename = 'xAPI-Edu-Data.csv'\n",
    "filepath = os.path.join(dir, filename)\n",
    "filepath"
   ]
  },
  {
   "cell_type": "markdown",
   "id": "781a1392-e217-439a-a71c-bd2b5fffec1f",
   "metadata": {},
   "source": [
    "## 외부저장소에서 데이터를 로드, RDD생성"
   ]
  },
  {
   "cell_type": "code",
   "execution_count": 7,
   "id": "37109e9d-b61d-45d1-be1c-a008ede158ce",
   "metadata": {},
   "outputs": [],
   "source": [
    "from pyspark import SparkConf, SparkContext\n",
    "spark =SparkContext(conf = conf).getOrCreate()"
   ]
  },
  {
   "cell_type": "code",
   "execution_count": 8,
   "id": "a8a046a1-a2b2-4f9f-8d6e-75e138435af6",
   "metadata": {},
   "outputs": [
    {
     "data": {
      "text/plain": [
       "file:////home/jovyan/work/learning_spark_data/xAPI-Edu-Data.csv MapPartitionsRDD[1] at textFile at NativeMethodAccessorImpl.java:0"
      ]
     },
     "execution_count": 8,
     "metadata": {},
     "output_type": "execute_result"
    }
   ],
   "source": [
    "lines = spark.textFile('file:///' + filepath.replace('\\\\','/'))\n",
    "lines"
   ]
  },
  {
   "cell_type": "code",
   "execution_count": 9,
   "id": "347ddaaa-11d7-48f1-8d06-491ae2958338",
   "metadata": {},
   "outputs": [
    {
     "data": {
      "text/plain": [
       "['gender,NationalITy,PlaceofBirth,StageID,GradeID,SectionID,Topic,Semester,Relation,raisedhands,VisITedResources,AnnouncementsView,Discussion,ParentAnsweringSurvey,ParentschoolSatisfaction,StudentAbsenceDays,Class']"
      ]
     },
     "execution_count": 9,
     "metadata": {},
     "output_type": "execute_result"
    }
   ],
   "source": [
    "lines.take(1)"
   ]
  },
  {
   "cell_type": "code",
   "execution_count": 10,
   "id": "ebb2bec8-0972-4b89-87c7-844035b0a805",
   "metadata": {},
   "outputs": [
    {
     "data": {
      "text/plain": [
       "481"
      ]
     },
     "execution_count": 10,
     "metadata": {},
     "output_type": "execute_result"
    }
   ],
   "source": [
    "lines.count()"
   ]
  },
  {
   "cell_type": "code",
   "execution_count": null,
   "id": "0d65ac66-a1b4-4efe-af27-6d4386798bae",
   "metadata": {},
   "outputs": [],
   "source": []
  },
  {
   "cell_type": "markdown",
   "id": "42843240-64a0-4519-aeea-0c5f92192ba6",
   "metadata": {},
   "source": [
    "# 데이터의 처리"
   ]
  },
  {
   "cell_type": "code",
   "execution_count": 11,
   "id": "c8f5f2ba-2efc-447a-aa8e-8a57e400033c",
   "metadata": {},
   "outputs": [
    {
     "data": {
      "text/plain": [
       "'gender,NationalITy,PlaceofBirth,StageID,GradeID,SectionID,Topic,Semester,Relation,raisedhands,VisITedResources,AnnouncementsView,Discussion,ParentAnsweringSurvey,ParentschoolSatisfaction,StudentAbsenceDays,Class'"
      ]
     },
     "execution_count": 11,
     "metadata": {},
     "output_type": "execute_result"
    }
   ],
   "source": [
    "header = lines.first()\n",
    "header"
   ]
  },
  {
   "cell_type": "code",
   "execution_count": 12,
   "id": "6b33a09c-bb2a-460a-959d-c01860963b5d",
   "metadata": {},
   "outputs": [
    {
     "data": {
      "text/plain": [
       "['M,KW,KuwaIT,lowerlevel,G-04,A,IT,F,Father,15,16,2,20,Yes,Good,Under-7,M',\n",
       " 'M,KW,KuwaIT,lowerlevel,G-04,A,IT,F,Father,20,20,3,25,Yes,Good,Under-7,M',\n",
       " 'M,KW,KuwaIT,lowerlevel,G-04,A,IT,F,Father,10,7,0,30,No,Bad,Above-7,L']"
      ]
     },
     "execution_count": 12,
     "metadata": {},
     "output_type": "execute_result"
    }
   ],
   "source": [
    "datas = lines.filter(lambda row: row != header)\n",
    "datas.take(3)"
   ]
  },
  {
   "cell_type": "code",
   "execution_count": 13,
   "id": "f3605704-c1cf-49af-af54-c5cedca14d87",
   "metadata": {},
   "outputs": [
    {
     "data": {
      "text/plain": [
       "PythonRDD[6] at RDD at PythonRDD.scala:53"
      ]
     },
     "execution_count": 13,
     "metadata": {},
     "output_type": "execute_result"
    }
   ],
   "source": [
    "countries = datas.map(lambda row:row.split(',')[2])\n",
    "countries"
   ]
  },
  {
   "cell_type": "code",
   "execution_count": 14,
   "id": "bf73d177-f96a-4918-a500-bdef61ec171d",
   "metadata": {},
   "outputs": [
    {
     "data": {
      "text/plain": [
       "['KuwaIT', 'KuwaIT', 'KuwaIT']"
      ]
     },
     "execution_count": 14,
     "metadata": {},
     "output_type": "execute_result"
    }
   ],
   "source": [
    "countries.take(3)"
   ]
  },
  {
   "cell_type": "code",
   "execution_count": 15,
   "id": "371c2187-2f93-4071-a551-1e2c7f2dbca2",
   "metadata": {},
   "outputs": [
    {
     "data": {
      "text/plain": [
       "defaultdict(int,\n",
       "            {'KuwaIT': 180,\n",
       "             'lebanon': 19,\n",
       "             'Egypt': 9,\n",
       "             'SaudiArabia': 16,\n",
       "             'USA': 16,\n",
       "             'Jordan': 176,\n",
       "             'venzuela': 1,\n",
       "             'Iran': 6,\n",
       "             'Tunis': 9,\n",
       "             'Morocco': 4,\n",
       "             'Syria': 6,\n",
       "             'Iraq': 22,\n",
       "             'Palestine': 10,\n",
       "             'Lybia': 6})"
      ]
     },
     "execution_count": 15,
     "metadata": {},
     "output_type": "execute_result"
    }
   ],
   "source": [
    "result = countries.countByValue()\n",
    "result"
   ]
  },
  {
   "cell_type": "code",
   "execution_count": 16,
   "id": "97da99e1-bc30-489d-99c9-c18d75af18c7",
   "metadata": {},
   "outputs": [
    {
     "data": {
      "text/plain": [
       "dict_items([('KuwaIT', 180), ('lebanon', 19), ('Egypt', 9), ('SaudiArabia', 16), ('USA', 16), ('Jordan', 176), ('venzuela', 1), ('Iran', 6), ('Tunis', 9), ('Morocco', 4), ('Syria', 6), ('Iraq', 22), ('Palestine', 10), ('Lybia', 6)])"
      ]
     },
     "execution_count": 16,
     "metadata": {},
     "output_type": "execute_result"
    }
   ],
   "source": [
    "result.items()"
   ]
  },
  {
   "cell_type": "code",
   "execution_count": 19,
   "id": "fed0ac64-3a17-47d9-be47-3b6a57b09db9",
   "metadata": {},
   "outputs": [
    {
     "data": {
      "text/plain": [
       "[('KuwaIT', 180),\n",
       " ('Jordan', 176),\n",
       " ('Iraq', 22),\n",
       " ('lebanon', 19),\n",
       " ('SaudiArabia', 16),\n",
       " ('USA', 16),\n",
       " ('Palestine', 10),\n",
       " ('Egypt', 9),\n",
       " ('Tunis', 9),\n",
       " ('Iran', 6),\n",
       " ('Syria', 6),\n",
       " ('Lybia', 6),\n",
       " ('Morocco', 4),\n",
       " ('venzuela', 1)]"
      ]
     },
     "execution_count": 19,
     "metadata": {},
     "output_type": "execute_result"
    }
   ],
   "source": [
    "sorted(result.items(), key = lambda x :x[1], reverse=True)"
   ]
  },
  {
   "cell_type": "code",
   "execution_count": 20,
   "id": "b650ee34-540b-4dbd-ae42-1ca83393ae20",
   "metadata": {},
   "outputs": [
    {
     "data": {
      "text/plain": [
       "[('KuwaIT', 180), ('Jordan', 176), ('Iraq', 22)]"
      ]
     },
     "execution_count": 20,
     "metadata": {},
     "output_type": "execute_result"
    }
   ],
   "source": [
    "sorted(result.items(), key = lambda x :x[1], reverse=True)[:3]"
   ]
  },
  {
   "cell_type": "code",
   "execution_count": 22,
   "id": "6f233142-70e1-402d-b310-81f0c0cacd97",
   "metadata": {},
   "outputs": [
    {
     "data": {
      "text/plain": [
       "480"
      ]
     },
     "execution_count": 22,
     "metadata": {},
     "output_type": "execute_result"
    }
   ],
   "source": [
    "total_su = sum(result.values()) # 480명이다\n",
    "total_su"
   ]
  },
  {
   "cell_type": "code",
   "execution_count": 24,
   "id": "a9b33ad3-8b0d-4fb6-9bf7-a660816ca19f",
   "metadata": {},
   "outputs": [
    {
     "data": {
      "text/plain": [
       "{'KuwaIT': 37.5,\n",
       " 'lebanon': 3.96,\n",
       " 'Egypt': 1.88,\n",
       " 'SaudiArabia': 3.33,\n",
       " 'USA': 3.33,\n",
       " 'Jordan': 36.67,\n",
       " 'venzuela': 0.21,\n",
       " 'Iran': 1.25,\n",
       " 'Tunis': 1.88,\n",
       " 'Morocco': 0.83,\n",
       " 'Syria': 1.25,\n",
       " 'Iraq': 4.58,\n",
       " 'Palestine': 2.08,\n",
       " 'Lybia': 1.25}"
      ]
     },
     "execution_count": 24,
     "metadata": {},
     "output_type": "execute_result"
    }
   ],
   "source": [
    "# 비율 계산\n",
    "ratio = { k : round(v / total_su * 100, 2) for k,v in result.items() }\n",
    "ratio"
   ]
  },
  {
   "cell_type": "code",
   "execution_count": 31,
   "id": "6926352b-2c59-4e5d-98f1-9a26f0cbb138",
   "metadata": {},
   "outputs": [
    {
     "data": {
      "text/plain": [
       "<BarContainer object of 14 artists>"
      ]
     },
     "execution_count": 31,
     "metadata": {},
     "output_type": "execute_result"
    },
    {
     "data": {
      "image/png": "[encoded data removed]",
      "text/plain": [
       "<Figure size 640x480 with 1 Axes>"
      ]
     },
     "metadata": {},
     "output_type": "display_data"
    }
   ],
   "source": [
    "import matplotlib.pyplot as plt\n",
    "countries = list(result.keys())\n",
    "counts =  list(result.values())\n",
    "plt.xticks(rotation=-70)\n",
    "plt.bar(countries, counts)"
   ]
  },
  {
   "cell_type": "code",
   "execution_count": 47,
   "id": "68e3f790-3167-409b-bac1-8abf9901e4ba",
   "metadata": {},
   "outputs": [],
   "source": [
    "spark.stop()"
   ]
  },
  {
   "cell_type": "markdown",
   "id": "6d6ecc82-beb0-4a4b-81ea-692f0bbf21cc",
   "metadata": {},
   "source": [
    "# RDD 연습"
   ]
  },
  {
   "cell_type": "code",
   "execution_count": 2,
   "id": "3c8cafa7-b7ff-4220-b256-27b46181fb9c",
   "metadata": {},
   "outputs": [],
   "source": [
    "# 2. RDD 생성 - 기본 리스트\n",
    "data = [\"KuwaIT\", \"lebanon\", \"Jordan\", \"Jordan\", \"USA\", \"Egypt\", \n",
    "        \"Jordan\", \"USA\", \"Iran\", \"Iran\", \"KuwaIT\"]"
   ]
  },
  {
   "cell_type": "code",
   "execution_count": 12,
   "id": "72a69f89-becd-4a0b-ba21-2fe27c931dd8",
   "metadata": {},
   "outputs": [
    {
     "name": "stdout",
     "output_type": "stream",
     "text": [
      "['kuwait', 'lebanon', 'jordan', 'jordan', 'usa', 'egypt', 'jordan', 'usa', 'iran', 'iran', 'kuwait']\n"
     ]
    }
   ],
   "source": [
    "#소문자로 변환\n",
    "from pyspark import SparkContext\n",
    "\n",
    "sc = SparkContext.getOrCreate()\n",
    "\n",
    "rdd = sc.parallelize(data)  # RDD로 변환\n",
    "countries_lower = rdd.map(lambda x: x.lower())\n",
    "print(lower_rdd.collect())"
   ]
  },
  {
   "cell_type": "code",
   "execution_count": 10,
   "id": "6b2e886f-fe39-45bc-a53d-3eb7972a5bf8",
   "metadata": {},
   "outputs": [
    {
     "data": {
      "text/plain": [
       "ParallelCollectionRDD[0] at readRDDFromFile at PythonRDD.scala:289"
      ]
     },
     "execution_count": 10,
     "metadata": {},
     "output_type": "execute_result"
    }
   ],
   "source": [
    "rdd"
   ]
  },
  {
   "cell_type": "code",
   "execution_count": 4,
   "id": "e45798ed-4ae3-486e-9c57-c869375bd972",
   "metadata": {},
   "outputs": [],
   "source": [
    "# 소문자로 변환  lower() 함수"
   ]
  },
  {
   "cell_type": "code",
   "execution_count": 9,
   "id": "136cf3d2-77b9-4d6b-8975-99baef1003df",
   "metadata": {},
   "outputs": [
    {
     "name": "stdout",
     "output_type": "stream",
     "text": [
      "['jordan']\n"
     ]
    }
   ],
   "source": [
    "# 'jordan'만 추출하기\n",
    "jordan_rdd = lower_rdd.filter(lambda x: x == \"jordan\").take(1)\n",
    "print( jordan_rdd)"
   ]
  },
  {
   "cell_type": "code",
   "execution_count": 8,
   "id": "6e167ecc-0595-4b3a-8a5d-4e95878e1919",
   "metadata": {},
   "outputs": [
    {
     "name": "stdout",
     "output_type": "stream",
     "text": [
      "3\n"
     ]
    }
   ],
   "source": [
    "# 개수 세기\n",
    "# count 액션을 사용하여 RDD에 포함된 원소의 총 개수를 계산합니다.\n",
    "jordan_count = jordan_rdd.count()\n",
    "\n",
    "print(jordan_count)"
   ]
  },
  {
   "cell_type": "markdown",
   "id": "41f6ec02-6c31-4365-b0b9-c88acca8c08c",
   "metadata": {},
   "source": [
    "# 국가별 뭐시기"
   ]
  },
  {
   "cell_type": "code",
   "execution_count": null,
   "id": "0c389676-fee2-4acd-8106-44031aa2cd85",
   "metadata": {},
   "outputs": [],
   "source": []
  },
  {
   "cell_type": "code",
   "execution_count": 25,
   "id": "5488a27d-9c67-41ba-881d-3dec729ac18c",
   "metadata": {},
   "outputs": [],
   "source": [
    "from pyspark.sql import SparkSession"
   ]
  },
  {
   "cell_type": "code",
   "execution_count": 26,
   "id": "ac082a6f-8a05-4f8f-b7d7-090e503429a0",
   "metadata": {},
   "outputs": [],
   "source": [
    "spark = SparkSession.builder.appName('pyspark example2').getOrCreate() "
   ]
  },
  {
   "cell_type": "code",
   "execution_count": 27,
   "id": "359ab110-959d-47da-b410-a33623b76d98",
   "metadata": {},
   "outputs": [
    {
     "data": {
      "text/plain": [
       "ParallelCollectionRDD[30] at readRDDFromFile at PythonRDD.scala:289"
      ]
     },
     "execution_count": 27,
     "metadata": {},
     "output_type": "execute_result"
    }
   ],
   "source": [
    "data = [\"KuwaIT\", \"lebanon\", \"Jordan\", \"Jordan\", \"USA\", \"Egypt\", \n",
    "        \"Jordan\", \"USA\", \"Iran\", \"Iran\", \"KuwaIT\"]\n",
    "countries = spark.sparkContext.parallelize(data)\n",
    "countries"
   ]
  },
  {
   "cell_type": "code",
   "execution_count": 13,
   "id": "632c5070-7423-4fe8-a7a8-c051a0978659",
   "metadata": {},
   "outputs": [
    {
     "data": {
      "text/plain": [
       "[('kuwait', 1)]"
      ]
     },
     "execution_count": 13,
     "metadata": {},
     "output_type": "execute_result"
    }
   ],
   "source": [
    "country_pairs = countries_lower.map(lambda x: (x,1))\n",
    "country_pairs.take(1)"
   ]
  },
  {
   "cell_type": "code",
   "execution_count": 15,
   "id": "14008d98-975a-47af-bee3-1106fbc1bf77",
   "metadata": {},
   "outputs": [
    {
     "data": {
      "text/plain": [
       "[('kuwait', 2), ('lebanon', 1)]"
      ]
     },
     "execution_count": 15,
     "metadata": {},
     "output_type": "execute_result"
    }
   ],
   "source": [
    "country_counts = country_pairs.reduceByKey(lambda a,b: a+b)\n",
    "country_counts.take(2)"
   ]
  },
  {
   "cell_type": "code",
   "execution_count": 16,
   "id": "45820e01-ff4d-446f-88ad-00f49ceb2911",
   "metadata": {},
   "outputs": [
    {
     "data": {
      "text/plain": [
       "[('kuwait', 2),\n",
       " ('lebanon', 1),\n",
       " ('egypt', 1),\n",
       " ('jordan', 3),\n",
       " ('usa', 2),\n",
       " ('iran', 2)]"
      ]
     },
     "execution_count": 16,
     "metadata": {},
     "output_type": "execute_result"
    }
   ],
   "source": [
    "country_counts.take(6)"
   ]
  },
  {
   "cell_type": "code",
   "execution_count": 17,
   "id": "4c4afc23-0d82-497e-b72c-752d04639b01",
   "metadata": {},
   "outputs": [
    {
     "data": {
      "text/plain": [
       "[('egypt', 1),\n",
       " ('iran', 2),\n",
       " ('jordan', 3),\n",
       " ('kuwait', 2),\n",
       " ('lebanon', 1),\n",
       " ('usa', 2)]"
      ]
     },
     "execution_count": 17,
     "metadata": {},
     "output_type": "execute_result"
    }
   ],
   "source": [
    "country_counts.sortByKey().collect() # key 순서대로 sort"
   ]
  },
  {
   "cell_type": "code",
   "execution_count": 19,
   "id": "cf7f7949-cdab-4830-b42e-a34898ac0cec",
   "metadata": {},
   "outputs": [
    {
     "data": {
      "text/plain": [
       "[('jordan', 3),\n",
       " ('kuwait', 2),\n",
       " ('usa', 2),\n",
       " ('iran', 2),\n",
       " ('lebanon', 1),\n",
       " ('egypt', 1)]"
      ]
     },
     "execution_count": 19,
     "metadata": {},
     "output_type": "execute_result"
    }
   ],
   "source": [
    "country_counts.sortBy(lambda X:X[1], ascending=False).collect() #value 순서대로 sort"
   ]
  },
  {
   "cell_type": "code",
   "execution_count": 29,
   "id": "28aea88d-4194-4430-9a7f-862a2e68dc60",
   "metadata": {},
   "outputs": [
    {
     "data": {
      "text/plain": [
       "'KuwaIT,lebanon,Jordan,Jordan,USA,Egypt,Jordan,USA,Iran,Iran,KuwaIT'"
      ]
     },
     "execution_count": 29,
     "metadata": {},
     "output_type": "execute_result"
    }
   ],
   "source": [
    "countries.reduce(lambda a, b: a+','+b) #변환"
   ]
  },
  {
   "cell_type": "code",
   "execution_count": null,
   "id": "327cf5bb-feda-4e6f-afc5-7d2f3a3af484",
   "metadata": {},
   "outputs": [],
   "source": []
  },
  {
   "cell_type": "code",
   "execution_count": null,
   "id": "7e9385f7-6843-47b1-be2b-b44ecc5fdd86",
   "metadata": {},
   "outputs": [],
   "source": [
    "# 저장소에 저장하기"
   ]
  },
  {
   "cell_type": "code",
   "execution_count": null,
   "id": "8232f8b8-0c7a-49da-8444-cc4aa3bb9799",
   "metadata": {},
   "outputs": [],
   "source": []
  },
  {
   "cell_type": "code",
   "execution_count": 32,
   "id": "5ab6d903-4cf0-4304-9396-c073cfb16509",
   "metadata": {},
   "outputs": [],
   "source": [
    "import os\n",
    "import shutil"
   ]
  },
  {
   "cell_type": "code",
   "execution_count": 30,
   "id": "c6b80a40-e008-4051-a8d9-a033cfa5c8ea",
   "metadata": {},
   "outputs": [],
   "source": [
    "output_path = 'output/countries_result'"
   ]
  },
  {
   "cell_type": "code",
   "execution_count": 34,
   "id": "fc906365-4e08-4a70-8334-3d3e58e408e3",
   "metadata": {},
   "outputs": [],
   "source": [
    "if os.path.exists(output_path):\n",
    "    shutil.rmtree(output_path)\n",
    "countries.saveAsTextFile(output_path) # 저장소 경로"
   ]
  }
 ],
 "metadata": {
  "kernelspec": {
   "display_name": "Python 3 (ipykernel)",
   "language": "python",
   "name": "python3"
  },
  "language_info": {
   "codemirror_mode": {
    "name": "ipython",
    "version": 3
   },
   "file_extension": ".py",
   "mimetype": "text/x-python",
   "name": "python",
   "nbconvert_exporter": "python",
   "pygments_lexer": "ipython3",
   "version": "3.11.6"
  }
 },
 "nbformat": 4,
 "nbformat_minor": 5
}
