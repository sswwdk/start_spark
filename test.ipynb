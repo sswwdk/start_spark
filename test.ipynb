{
 "cells": [
  {
   "cell_type": "code",
   "execution_count": 4,
   "id": "5790b627-2bcc-4b15-9141-3394a83be312",
   "metadata": {},
   "outputs": [],
   "source": [
    "from pyspark import SparkContext\n",
    "\n",
    "# SparkContext 생성\n",
    "sc = SparkContext(\"local\", \"MyApp\")  # local: 로컬에서 실행, \"MyApp\": 앱 이름"
   ]
  },
  {
   "cell_type": "code",
   "execution_count": 5,
   "id": "f34ecae2-c55b-4d86-8dca-edbf6cdf5376",
   "metadata": {},
   "outputs": [
    {
     "name": "stdout",
     "output_type": "stream",
     "text": [
      "Mapped RDD: [2, 4, 6, 8, 10]\n",
      "Filtered RDD: [2, 4]\n",
      "Flattened RDD: [1, 2, 3, 4]\n"
     ]
    }
   ],
   "source": [
    "### 1. RDD 생성과 기본 트랜스포메이션\n",
    "\n",
    "# SparkContext 생성 (이미 sc가 존재한다고 가정)\n",
    "# RDD 생성\n",
    "numbers = sc.parallelize([1, 2, 3, 4, 5])\n",
    "\n",
    "# 기본 트랜스포메이션 예제\n",
    "mapped_rdd = numbers.map(lambda x: x * 2)\n",
    "filtered_rdd = numbers.filter(lambda x: x % 2 == 0)\n",
    "flattened_rdd = sc.parallelize([[1, 2], [3, 4]]).flatMap(lambda x: x)\n",
    "\n",
    "# 결과 확인\n",
    "print(\"Mapped RDD:\", mapped_rdd.collect())  # [2, 4, 6, 8, 10]\n",
    "print(\"Filtered RDD:\", filtered_rdd.collect())  # [2, 4]\n",
    "print(\"Flattened RDD:\", flattened_rdd.collect())  # [1, 2, 3, 4]"
   ]
  },
  {
   "cell_type": "code",
   "execution_count": 6,
   "id": "176beab2-2cc3-494e-b1a0-b016478bfdf5",
   "metadata": {},
   "outputs": [],
   "source": [
    "### 4. 액션 연산 예제\n",
    "# 액션 연산\n",
    "count = numbers.count()\n",
    "first_element = numbers.first()\n",
    "collected = numbers.collect()\n",
    "taken = numbers.take(3)"
   ]
  },
  {
   "cell_type": "code",
   "execution_count": 7,
   "id": "7cff66ef-8376-4b33-8132-903ca0b7ad2d",
   "metadata": {},
   "outputs": [
    {
     "name": "stdout",
     "output_type": "stream",
     "text": [
      "Sample RDD: [2, 5]\n",
      "Union RDD: [1, 2, 3, 4, 5, 6, 7, 8]\n",
      "MapValues RDD: [('apple', 10), ('banana', 20), ('cherry', 30)]\n"
     ]
    }
   ],
   "source": [
    "### 2. Narrow 트랜스포메이션 예제\n",
    "\n",
    "# 1:1 변환 (Narrow Transformation)\n",
    "sample_rdd = numbers.sample(False, 0.5)\n",
    "union_rdd = numbers.union(sc.parallelize([6, 7, 8]))\n",
    "\n",
    "# Key-Value RDD에서 mapValues 사용\n",
    "kv_rdd = sc.parallelize([(\"apple\", 1), (\"banana\", 2), (\"cherry\", 3)])\n",
    "mapped_values = kv_rdd.mapValues(lambda x: x * 10)\n",
    "\n",
    "print(\"Sample RDD:\", sample_rdd.collect())  # 무작위 샘플링된 결과\n",
    "print(\"Union RDD:\", union_rdd.collect())  # [1, 2, 3, 4, 5, 6, 7, 8]\n",
    "print(\"MapValues RDD:\", mapped_values.collect())  # [(\"apple\", 10), (\"banana\", 20), (\"cherry\", 30)]"
   ]
  },
  {
   "cell_type": "code",
   "execution_count": 8,
   "id": "cb92acfa-6494-4d83-b1cb-491913a28623",
   "metadata": {},
   "outputs": [],
   "source": [
    "### 3. Wide 트랜스포메이션 예제\n",
    "\n",
    "# 셔플링이 필요한 변환 (Wide Transformation)\n",
    "distinct_rdd = sc.parallelize([1, 1, 2, 2, 3, 3]).distinct()\n",
    "grouped_rdd = kv_rdd.groupByKey()\n",
    "reduced_rdd = kv_rdd.reduceByKey(lambda x, y: x + y)"
   ]
  },
  {
   "cell_type": "code",
   "execution_count": 9,
   "id": "e34c03bb-2738-44fe-b759-57f47cee515e",
   "metadata": {},
   "outputs": [
    {
     "name": "stdout",
     "output_type": "stream",
     "text": [
      "[('apple', (2, 'fruit')), ('banana', (1, 'fruit'))]\n",
      "Distinct RDD: [1, 2, 3]\n",
      "Joined RDD: [('apple', (2, 'fruit')), ('banana', (1, 'fruit'))]\n"
     ]
    }
   ],
   "source": [
    "# 두 RDD 조인하기\n",
    "rdd1 = sc.parallelize([(\"apple\", 2), (\"banana\", 1)])\n",
    "rdd2 = sc.parallelize([(\"apple\", \"fruit\"), (\"banana\", \"fruit\"), (\"carrot\", \"vegetable\")])\n",
    "\n",
    "# 두 RDD 조인\n",
    "joined_rdd = rdd1.join(rdd2)\n",
    "print(joined_rdd.collect())\n",
    "# 출력 결과: [('apple', (2, 'fruit')), ('banana', (1, 'fruit'))]\n",
    "\n",
    "print(\"Distinct RDD:\", distinct_rdd.collect())  # [1, 2, 3]\n",
    "print(\"Joined RDD:\", joined_rdd.collect())  # [(\"apple\", (2, \"fruit\")), (\"banana\", (1, \"fruit\"))]"
   ]
  },
  {
   "cell_type": "code",
   "execution_count": null,
   "id": "4bdb8fd8-9b69-4fcd-9a93-b5ccfa15df9f",
   "metadata": {},
   "outputs": [],
   "source": []
  },
  {
   "cell_type": "code",
   "execution_count": null,
   "id": "77ade676-293f-4cd2-bdd3-718b14b4c86d",
   "metadata": {},
   "outputs": [],
   "source": []
  },
  {
   "cell_type": "code",
   "execution_count": null,
   "id": "31d9fcf5-1436-4218-b76d-9acecb98b95d",
   "metadata": {},
   "outputs": [],
   "source": []
  }
 ],
 "metadata": {
  "kernelspec": {
   "display_name": "Python 3 (ipykernel)",
   "language": "python",
   "name": "python3"
  },
  "language_info": {
   "codemirror_mode": {
    "name": "ipython",
    "version": 3
   },
   "file_extension": ".py",
   "mimetype": "text/x-python",
   "name": "python",
   "nbconvert_exporter": "python",
   "pygments_lexer": "ipython3",
   "version": "3.11.6"
  }
 },
 "nbformat": 4,
 "nbformat_minor": 5
}
